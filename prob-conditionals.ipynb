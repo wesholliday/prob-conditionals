{
 "cells": [
  {
   "attachments": {},
   "cell_type": "markdown",
   "id": "ce0c83ad",
   "metadata": {},
   "source": [
    "This notebook implements finitary versions of the approach to the probabilities of conditionals from Bas van Fraassen's 1976 paper \"Probabilities of conditionals\" (https://link.springer.com/chapter/10.1007/978-94-010-1853-1_10) (cf. Section 5 of http://paolosantorio.net/KS-NASSLLI2018.pdf)."
   ]
  },
  {
   "cell_type": "markdown",
   "id": "d60e5e8f",
   "metadata": {},
   "source": [
    "# Outline\n",
    "\n",
    "### 1. Preliminaries\n",
    "\n",
    "### 2. Semantics\n",
    "\n",
    "### 3. Probability\n",
    "\n",
    "> 3.1. Fair die case\n",
    "\n",
    "> 3.2. Biased die case\n",
    "\n",
    "### 4. Modified semantics\n",
    "\n",
    "> 4.1. McGee-style counterexample to Modus Ponens\n",
    "\n",
    "### 5. A second version of the modified semantics\n",
    "\n",
    "> 5.1. Differences with non-Boolean antecedents"
   ]
  },
  {
   "cell_type": "markdown",
   "id": "88ec2d3e",
   "metadata": {},
   "source": [
    "# 1. Preliminaries"
   ]
  },
  {
   "cell_type": "code",
   "execution_count": 205,
   "id": "2ad193ae",
   "metadata": {},
   "outputs": [],
   "source": [
    "def perms(urn, num_to_draw = None):\n",
    "    \"\"\"\n",
    "    Returns all permutations of subsets of urn of size num_to_draw (default is len(urn))\n",
    "    \"\"\"\n",
    "    if num_to_draw == None:\n",
    "        num_to_draw = len(urn)\n",
    "\n",
    "    return _perms(urn,num_to_draw,[])\n",
    "\n",
    "def _perms(urn, num_to_draw, sequence):\n",
    "\n",
    "    if num_to_draw == 1:\n",
    "        for w in urn:\n",
    "            yield tuple(sequence + [w])\n",
    "\n",
    "    if num_to_draw > 1:\n",
    "        for w in urn:\n",
    "            yield from _perms([v for v in urn if not v==w], num_to_draw-1, sequence + [w])"
   ]
  },
  {
   "cell_type": "code",
   "execution_count": 206,
   "id": "91903361",
   "metadata": {},
   "outputs": [
    {
     "name": "stdout",
     "output_type": "stream",
     "text": [
      "('x', 'y', 'z')\n",
      "('x', 'z', 'y')\n",
      "('y', 'x', 'z')\n",
      "('y', 'z', 'x')\n",
      "('z', 'x', 'y')\n",
      "('z', 'y', 'x')\n"
     ]
    }
   ],
   "source": [
    "for seq in perms(['x','y','z']):\n",
    "    print(seq)"
   ]
  },
  {
   "cell_type": "code",
   "execution_count": 207,
   "id": "33bbf2ee",
   "metadata": {},
   "outputs": [],
   "source": [
    "def permutations_of_ne_subsets(urn):\n",
    "    \"\"\"\n",
    "    Returns all permutations of nonempty subsets of urn\n",
    "    \"\"\"\n",
    "\n",
    "    for n in range(len(urn)+1):\n",
    "\n",
    "        yield from perms(urn,n)"
   ]
  },
  {
   "cell_type": "code",
   "execution_count": 208,
   "id": "85d99492",
   "metadata": {},
   "outputs": [
    {
     "name": "stdout",
     "output_type": "stream",
     "text": [
      "('x',)\n",
      "('y',)\n",
      "('z',)\n",
      "('x', 'y')\n",
      "('x', 'z')\n",
      "('y', 'x')\n",
      "('y', 'z')\n",
      "('z', 'x')\n",
      "('z', 'y')\n",
      "('x', 'y', 'z')\n",
      "('x', 'z', 'y')\n",
      "('y', 'x', 'z')\n",
      "('y', 'z', 'x')\n",
      "('z', 'x', 'y')\n",
      "('z', 'y', 'x')\n"
     ]
    }
   ],
   "source": [
    "for seq in permutations_of_ne_subsets(['x','y','z']):\n",
    "    print(seq)"
   ]
  },
  {
   "cell_type": "markdown",
   "id": "3c0371a2",
   "metadata": {},
   "source": [
    "# 2. Semantics"
   ]
  },
  {
   "cell_type": "markdown",
   "id": "5f2276d3",
   "metadata": {},
   "source": [
    "A *model* is a pair $\\mathcal{M}=(W,V)$ of a nonempty set $W$ and a propositional varluation $V:\\mathsf{Prop}\\to \\wp(W)$.\n",
    "\n",
    "Let $W'$ be the set of all permutations of nonempty subsets of $W$. We define truth of a formula $\\varphi$ at a permutation $\\langle w_1,\\dots,w_n\\rangle\\in W'$ as follows:\n",
    "\n",
    "1. $\\mathcal{M},\\langle w_1,\\dots,w_n\\rangle\\vDash p$ iff $w_1\\in V(p)$;\n",
    "\n",
    "2. $\\mathcal{M},\\langle w_1,\\dots,w_n\\rangle\\vDash \\neg\\varphi$ iff $\\mathcal{M},\\langle w_1,\\dots,w_n\\rangle\\nvDash \\varphi$;\n",
    "\n",
    "3. $\\mathcal{M},\\langle w_1,\\dots,w_n\\rangle\\vDash \\varphi\\wedge\\psi$ iff $\\mathcal{M},\\langle w_1,\\dots,w_n\\rangle\\vDash \\varphi$ and $\\mathcal{M},\\langle w_1,\\dots,w_n\\rangle\\vDash \\varphi$;\n",
    "\n",
    "4. $\\mathcal{M},\\langle w_1,\\dots,w_n\\rangle\\vDash \\varphi\\vee\\psi$ iff $\\mathcal{M},\\langle w_1,\\dots,w_n\\rangle\\vDash \\varphi$ or $\\mathcal{M},\\langle w_1,\\dots,w_n\\rangle\\vDash \\varphi$;\n",
    "\n",
    "5. $\\mathcal{M},\\langle w_1,\\dots,w_n\\rangle\\vDash \\varphi > \\psi$ iff $\\mathrm{min}(\\{i \\in\\mathbb{N}\\mid \\mathcal{M},\\langle w_i,\\dots,w_n\\rangle\\vDash \\varphi \\})\\subseteq \\{i \\in\\mathbb{N}\\mid \\mathcal{M},\\langle w_i,\\dots,w_n\\rangle\\vDash \\psi \\}$,\n",
    "\n",
    "where $\\langle w_i,\\dots,w_n\\rangle$ is the final segment of $\\langle w_1,\\dots,w_n\\rangle$ beginning with $w_i$.\n",
    "\n",
    "We call $\\{\\sigma\\in W'\\mid \\mathcal{M},\\sigma\\vDash\\varphi\\}$ the *extension* of $\\varphi$."
   ]
  },
  {
   "cell_type": "code",
   "execution_count": 209,
   "id": "41c2227d",
   "metadata": {},
   "outputs": [],
   "source": [
    "def main_connective(formula):\n",
    "    \"\"\"\n",
    "    Returns the main connective of the formula (or \"prop\" if s is a propositional variable) and arguments to main connective (or propositional variable)\n",
    "    \"\"\"\n",
    "\n",
    "    formula = formula.replace(\" \", \"\")\n",
    "        \n",
    "    if len(formula) == 1:\n",
    "        return \"prop\", formula\n",
    "\n",
    "    if formula.startswith(\"~\"):\n",
    "        formula = formula.removeprefix(\"~\")\n",
    "        return \"~\", formula\n",
    "\n",
    "    if formula.startswith(\"(\"):\n",
    "            \n",
    "        leftparen = 0\n",
    "        rightparen = 0\n",
    "        slength = len(formula)\n",
    "\n",
    "        for n in range(slength):\n",
    "\n",
    "            if formula[n] == \"(\":\n",
    "                leftparen +=1\n",
    "\n",
    "            if formula[n] == \")\":\n",
    "                rightparen +=1\n",
    "\n",
    "            if leftparen - rightparen == 1:\n",
    "                \n",
    "                if formula[n] == \"^\":\n",
    "                    return \"^\", formula[1:n], formula[n+1:-1]\n",
    "\n",
    "                if formula[n] == \"v\":\n",
    "                    return \"v\", formula[1:n], formula[n+1:-1]\n",
    "                \n",
    "                if formula[n] == '>':\n",
    "                    return '>', formula[1:n], formula[n+1:-1]     \n",
    "\n",
    "    return None"
   ]
  },
  {
   "cell_type": "code",
   "execution_count": 210,
   "id": "9f0ca953",
   "metadata": {},
   "outputs": [],
   "source": [
    "def extension(formula, sequences, valuation):\n",
    "    \"\"\"\n",
    "    Given a formula, a set of sequences of worlds, and a valuation mapping each proposition letter to a set of worlds,\n",
    "    returns the extension of the formula as a set of sequences\n",
    "    \"\"\"\n",
    "    \n",
    "    main_connec = main_connective(formula)\n",
    "\n",
    "    if main_connec[0] == 'prop':\n",
    "\n",
    "        return set([sequence for sequence in sequences if sequence[0] in valuation[main_connec[1]]])\n",
    "\n",
    "    if main_connec[0] == '~':\n",
    "        inner_ext = set(extension(main_connec[1], sequences,valuation))\n",
    "        return set([w for w in sequences if not w in inner_ext])\n",
    "\n",
    "    if main_connec[0] == '^':\n",
    "        return extension(main_connec[1],sequences,valuation).intersection(extension(main_connec[2],sequences,valuation))\n",
    "\n",
    "    if main_connec[0] == 'v':\n",
    "        return extension(main_connec[1],sequences,valuation).union(extension(main_connec[2],sequences,valuation))\n",
    "\n",
    "    if main_connec[0] == '>':\n",
    "\n",
    "        ant_ext = extension(main_connec[1], sequences, valuation)\n",
    "        cons_ext = extension(main_connec[2], sequences, valuation)\n",
    "\n",
    "        ext = [seq for seq in sequences]\n",
    "\n",
    "        for sequence in sequences:\n",
    "            for idx, world in enumerate(sequence):\n",
    "                if sequence[idx::] in ant_ext:\n",
    "                    if not sequence[idx::] in cons_ext:\n",
    "\n",
    "                        ext.remove(sequence)\n",
    "                        break\n",
    "                        \n",
    "                    else:\n",
    "                        break\n",
    "\n",
    "        return set(ext)"
   ]
  },
  {
   "cell_type": "code",
   "execution_count": 211,
   "id": "2fba6e52",
   "metadata": {},
   "outputs": [
    {
     "name": "stdout",
     "output_type": "stream",
     "text": [
      "[('x',), ('y',), ('z',), ('x', 'y'), ('x', 'z'), ('y', 'x'), ('y', 'z'), ('z', 'x'), ('z', 'y'), ('x', 'y', 'z'), ('x', 'z', 'y'), ('y', 'x', 'z'), ('y', 'z', 'x'), ('z', 'x', 'y'), ('z', 'y', 'x')]\n"
     ]
    }
   ],
   "source": [
    "seqs = list(permutations_of_ne_subsets(['x','y','z']))\n",
    "print(seqs)"
   ]
  },
  {
   "cell_type": "code",
   "execution_count": 212,
   "id": "cc01db18",
   "metadata": {},
   "outputs": [
    {
     "data": {
      "text/plain": [
       "{('x',),\n",
       " ('x', 'y'),\n",
       " ('x', 'y', 'z'),\n",
       " ('x', 'z'),\n",
       " ('x', 'z', 'y'),\n",
       " ('z',),\n",
       " ('z', 'x'),\n",
       " ('z', 'x', 'y'),\n",
       " ('z', 'y'),\n",
       " ('z', 'y', 'x')}"
      ]
     },
     "execution_count": 212,
     "metadata": {},
     "output_type": "execute_result"
    }
   ],
   "source": [
    "extension('p',seqs,{'p': set({'x','z'}), 'q': set({'x','y'})})"
   ]
  },
  {
   "cell_type": "code",
   "execution_count": 213,
   "id": "f45f198d",
   "metadata": {},
   "outputs": [
    {
     "data": {
      "text/plain": [
       "{('x',),\n",
       " ('x', 'y'),\n",
       " ('x', 'y', 'z'),\n",
       " ('x', 'z'),\n",
       " ('x', 'z', 'y'),\n",
       " ('y',),\n",
       " ('y', 'x'),\n",
       " ('y', 'x', 'z'),\n",
       " ('y', 'z'),\n",
       " ('y', 'z', 'x')}"
      ]
     },
     "execution_count": 213,
     "metadata": {},
     "output_type": "execute_result"
    }
   ],
   "source": [
    "extension('q',seqs,{'p': set({'x','z'}), 'q': set({'x','y'})})"
   ]
  },
  {
   "cell_type": "code",
   "execution_count": 214,
   "id": "036f09ee",
   "metadata": {},
   "outputs": [
    {
     "data": {
      "text/plain": [
       "{('x',),\n",
       " ('x', 'y'),\n",
       " ('x', 'y', 'z'),\n",
       " ('x', 'z'),\n",
       " ('x', 'z', 'y'),\n",
       " ('y',),\n",
       " ('y', 'x'),\n",
       " ('y', 'x', 'z')}"
      ]
     },
     "execution_count": 214,
     "metadata": {},
     "output_type": "execute_result"
    }
   ],
   "source": [
    "extension('(p>q)',seqs,{'p': set({'x','z'}), 'q': set({'x','y'})})"
   ]
  },
  {
   "cell_type": "code",
   "execution_count": 215,
   "id": "50a49d9a",
   "metadata": {},
   "outputs": [
    {
     "data": {
      "text/plain": [
       "{('x',),\n",
       " ('x', 'y'),\n",
       " ('x', 'y', 'z'),\n",
       " ('x', 'z'),\n",
       " ('x', 'z', 'y'),\n",
       " ('z',),\n",
       " ('z', 'x'),\n",
       " ('z', 'x', 'y')}"
      ]
     },
     "execution_count": 215,
     "metadata": {},
     "output_type": "execute_result"
    }
   ],
   "source": [
    "extension('(q>p)',seqs,{'p': set({'x','z'}), 'q': set({'x','y'})})"
   ]
  },
  {
   "cell_type": "code",
   "execution_count": 216,
   "id": "dd574517",
   "metadata": {},
   "outputs": [
    {
     "data": {
      "text/plain": [
       "{('x',),\n",
       " ('x', 'y'),\n",
       " ('x', 'y', 'z'),\n",
       " ('x', 'z'),\n",
       " ('x', 'z', 'y'),\n",
       " ('y',),\n",
       " ('y', 'x'),\n",
       " ('y', 'x', 'z'),\n",
       " ('y', 'z'),\n",
       " ('y', 'z', 'x'),\n",
       " ('z',),\n",
       " ('z', 'x'),\n",
       " ('z', 'x', 'y')}"
      ]
     },
     "execution_count": 216,
     "metadata": {},
     "output_type": "execute_result"
    }
   ],
   "source": [
    "extension('(p>(q>p))',seqs,{'p': set({'x','z'}), 'q': set({'x','y'})})"
   ]
  },
  {
   "cell_type": "markdown",
   "id": "2c91d68b",
   "metadata": {},
   "source": [
    "# 3. Probability of formulas"
   ]
  },
  {
   "cell_type": "markdown",
   "id": "8da76265",
   "metadata": {},
   "source": [
    "Given a finite model $\\mathcal{M}=(W,V)$, we encode a probability distribution as a dictionary that assigns to each $w\\in W$ a number in $[0,1]$ such that the probabilities sum to 1."
   ]
  },
  {
   "cell_type": "code",
   "execution_count": 217,
   "id": "5d75092b",
   "metadata": {},
   "outputs": [],
   "source": [
    "mu = dict()\n",
    "mu['x'] = .4\n",
    "mu['y'] = .35\n",
    "mu['z'] = .25"
   ]
  },
  {
   "cell_type": "markdown",
   "id": "d29b6e11",
   "metadata": {},
   "source": [
    "Next we assign probabilities to permutations of $W$. Note: we do not assign probabilities to permutations of proper subsets of $W$, since this will not be needed in the following.\n",
    "\n",
    "We take the probability of a permutation of $W$ to be the probability of drawing that permutation via sampling without replacement from $W$ according to the given probability distribution."
   ]
  },
  {
   "cell_type": "code",
   "execution_count": 218,
   "id": "c37ecd3d",
   "metadata": {},
   "outputs": [],
   "source": [
    "def prob_without_replacement(sequence,world_prob_dist):\n",
    "    \"\"\"\n",
    "    Given a sequence of worlds and a probability distribution over worlds,\n",
    "    returns the probability of the sequence under sampling without replacement\n",
    "    \"\"\"\n",
    "\n",
    "    world = sequence[0]\n",
    "\n",
    "    if len(sequence) == 1:\n",
    "        return world_prob_dist[world]\n",
    "\n",
    "    new_world_prob_dist = dict()\n",
    "\n",
    "    for w in world_prob_dist.keys():\n",
    "        if not w == sequence[0]:\n",
    "\n",
    "            new_world_prob_dist[w] =  world_prob_dist[w] /(1-world_prob_dist[world])\n",
    "\n",
    "    return world_prob_dist[world] * prob_without_replacement(sequence[1:],new_world_prob_dist)"
   ]
  },
  {
   "cell_type": "code",
   "execution_count": 219,
   "id": "78005b05",
   "metadata": {},
   "outputs": [
    {
     "data": {
      "text/plain": [
       "0.2333333333333334"
      ]
     },
     "execution_count": 219,
     "metadata": {},
     "output_type": "execute_result"
    }
   ],
   "source": [
    "prob_without_replacement(['x','y','z'], mu)"
   ]
  },
  {
   "cell_type": "code",
   "execution_count": 220,
   "id": "9e390a66",
   "metadata": {},
   "outputs": [],
   "source": [
    "def sequence_prob_dist(world_prob_dist):\n",
    "    \"\"\"\n",
    "    Given a probability distribution over worlds,\n",
    "    returns the probability distribution over permutations of the set of worlds\n",
    "    given by sampling without replacement\n",
    "    \"\"\"\n",
    "\n",
    "    sequence_prob_dist = dict()\n",
    "\n",
    "    for sequence in perms(world_prob_dist.keys()):\n",
    "\n",
    "        sequence_prob_dist[sequence] =  prob_without_replacement(sequence,world_prob_dist)\n",
    "\n",
    "    return sequence_prob_dist"
   ]
  },
  {
   "cell_type": "code",
   "execution_count": 221,
   "id": "2653ac77",
   "metadata": {},
   "outputs": [
    {
     "data": {
      "text/plain": [
       "{('x', 'y', 'z'): 0.2333333333333334,\n",
       " ('x', 'z', 'y'): 0.16666666666666674,\n",
       " ('y', 'x', 'z'): 0.2153846153846154,\n",
       " ('y', 'z', 'x'): 0.13461538461538458,\n",
       " ('z', 'x', 'y'): 0.1333333333333333,\n",
       " ('z', 'y', 'x'): 0.11666666666666663}"
      ]
     },
     "execution_count": 221,
     "metadata": {},
     "output_type": "execute_result"
    }
   ],
   "source": [
    "sequence_prob_dist(mu)"
   ]
  },
  {
   "cell_type": "markdown",
   "id": "767ba9e4",
   "metadata": {},
   "source": [
    "Given a model $\\mathcal{M}=(W,V)$ and probabilities encoded by $\\mu:W\\to[0,1]$, let $\\mu^+:\\wp(W)\\to [0,1]$ be defined as usual by $\\mu^+(A)=\\underset{w\\in A}{\\sum}\\mu(w)$.\n",
    "\n",
    "Then we take the probability of a formula $\\varphi$ to be $\\mu^+(\\{\\sigma\\in permutations(W)\\mid \\mathcal{M},\\sigma\\vDash\\varphi\\})$."
   ]
  },
  {
   "cell_type": "code",
   "execution_count": 222,
   "id": "c502d0ac",
   "metadata": {},
   "outputs": [],
   "source": [
    "def prob_of_formula(formula, world_prob_dist, valuation):\n",
    "    \"\"\"\n",
    "    Given a formula, probability distribution over worlds, and propositional valuation,\n",
    "    returns the probability of the formula\n",
    "    \"\"\"\n",
    "\n",
    "    worlds = world_prob_dist.keys()\n",
    "\n",
    "    sequences = list(permutations_of_ne_subsets(worlds))\n",
    "\n",
    "    ext = extension(formula,sequences,valuation)\n",
    "\n",
    "    seq_prob_dist = sequence_prob_dist(world_prob_dist)\n",
    "\n",
    "    full_perms_ext = [seq for seq in perms(worlds) if seq in ext]\n",
    "\n",
    "    return sum([seq_prob_dist[seq] for seq in full_perms_ext])"
   ]
  },
  {
   "cell_type": "markdown",
   "id": "90c79014",
   "metadata": {},
   "source": [
    "## 3.1. Fair die case"
   ]
  },
  {
   "cell_type": "code",
   "execution_count": 223,
   "id": "8f6593df",
   "metadata": {},
   "outputs": [
    {
     "name": "stdout",
     "output_type": "stream",
     "text": [
      "{1: 0.16666666666666666, 2: 0.16666666666666666, 3: 0.16666666666666666, 4: 0.16666666666666666, 5: 0.16666666666666666, 6: 0.16666666666666666}\n"
     ]
    }
   ],
   "source": [
    "fair_die = dict()\n",
    "\n",
    "for n in range(1,7):\n",
    "    fair_die[n] = 1/6\n",
    "\n",
    "print(fair_die)\n"
   ]
  },
  {
   "cell_type": "code",
   "execution_count": 224,
   "id": "8381e7e0",
   "metadata": {},
   "outputs": [],
   "source": [
    "val = {'l': set({1,2,3}), 'h': set({4,5,6}), 'e': set({2,4,6})}"
   ]
  },
  {
   "cell_type": "code",
   "execution_count": 225,
   "id": "d43e1b2e",
   "metadata": {},
   "outputs": [
    {
     "data": {
      "text/plain": [
       "0.3333333333333324"
      ]
     },
     "execution_count": 225,
     "metadata": {},
     "output_type": "execute_result"
    }
   ],
   "source": [
    "prob_of_formula('(l>e)', fair_die, val)"
   ]
  },
  {
   "cell_type": "code",
   "execution_count": 226,
   "id": "abd8c042",
   "metadata": {},
   "outputs": [
    {
     "data": {
      "text/plain": [
       "0.33333333333333365"
      ]
     },
     "execution_count": 226,
     "metadata": {},
     "output_type": "execute_result"
    }
   ],
   "source": [
    "prob_of_formula('(e^l)', fair_die, val) / prob_of_formula('l', fair_die, val)"
   ]
  },
  {
   "cell_type": "code",
   "execution_count": 227,
   "id": "0415f3cd",
   "metadata": {},
   "outputs": [
    {
     "data": {
      "text/plain": [
       "0.6666666666666646"
      ]
     },
     "execution_count": 227,
     "metadata": {},
     "output_type": "execute_result"
    }
   ],
   "source": [
    "prob_of_formula('(h>e)', fair_die, val)"
   ]
  },
  {
   "cell_type": "code",
   "execution_count": 228,
   "id": "189d2ec3",
   "metadata": {},
   "outputs": [
    {
     "data": {
      "text/plain": [
       "0.6666666666666669"
      ]
     },
     "execution_count": 228,
     "metadata": {},
     "output_type": "execute_result"
    }
   ],
   "source": [
    "prob_of_formula('(e^h)', fair_die, val) / prob_of_formula('h', fair_die, val)"
   ]
  },
  {
   "cell_type": "code",
   "execution_count": 229,
   "id": "d7abe0ae",
   "metadata": {},
   "outputs": [
    {
     "data": {
      "text/plain": [
       "0.22222222222222168"
      ]
     },
     "execution_count": 229,
     "metadata": {},
     "output_type": "execute_result"
    }
   ],
   "source": [
    "prob_of_formula('((l>e)^(h>e))', fair_die ,val) "
   ]
  },
  {
   "cell_type": "markdown",
   "id": "8efd7073",
   "metadata": {},
   "source": [
    "By contrast, according to Ciardelli and Ommunndsen (2022, Sec. 5) (https://onlinelibrary.wiley.com/doi/abs/10.1111/nous.12437), $(l>e)\\wedge (h>e)$ is equivalent to $e$ and hence should have probability .5. By this reasoning, the probability of $(l>e)\\wedge (h>e)$ should also be .5 in the following biased die case. "
   ]
  },
  {
   "cell_type": "markdown",
   "id": "3d7adc93",
   "metadata": {},
   "source": [
    "## 3.2. Biased die case"
   ]
  },
  {
   "cell_type": "code",
   "execution_count": 230,
   "id": "95b331ff",
   "metadata": {},
   "outputs": [],
   "source": [
    "biased_die = dict()\n",
    "\n",
    "biased_die[1] = 4/24\n",
    "biased_die[2] = 1/24\n",
    "biased_die[3] = 4/24\n",
    "biased_die[4] = 6/24\n",
    "biased_die[5] = 4/24\n",
    "biased_die[6] = 5/24"
   ]
  },
  {
   "cell_type": "code",
   "execution_count": 231,
   "id": "9ae0ec62",
   "metadata": {},
   "outputs": [
    {
     "data": {
      "text/plain": [
       "0.5000000000000006"
      ]
     },
     "execution_count": 231,
     "metadata": {},
     "output_type": "execute_result"
    }
   ],
   "source": [
    "prob_of_formula('e', biased_die, val)"
   ]
  },
  {
   "cell_type": "code",
   "execution_count": 232,
   "id": "37cbd787",
   "metadata": {},
   "outputs": [
    {
     "data": {
      "text/plain": [
       "0.11111111111111105"
      ]
     },
     "execution_count": 232,
     "metadata": {},
     "output_type": "execute_result"
    }
   ],
   "source": [
    "prob_of_formula('(l>e)', biased_die, val)"
   ]
  },
  {
   "cell_type": "code",
   "execution_count": 233,
   "id": "3178e6a5",
   "metadata": {},
   "outputs": [
    {
     "data": {
      "text/plain": [
       "0.11111111111111112"
      ]
     },
     "execution_count": 233,
     "metadata": {},
     "output_type": "execute_result"
    }
   ],
   "source": [
    "prob_of_formula('(e^l)', biased_die, val) / prob_of_formula('l', biased_die, val)"
   ]
  },
  {
   "cell_type": "code",
   "execution_count": 234,
   "id": "35dc090e",
   "metadata": {},
   "outputs": [
    {
     "data": {
      "text/plain": [
       "0.7333333333333321"
      ]
     },
     "execution_count": 234,
     "metadata": {},
     "output_type": "execute_result"
    }
   ],
   "source": [
    "prob_of_formula('(h>e)', biased_die, val)"
   ]
  },
  {
   "cell_type": "code",
   "execution_count": 235,
   "id": "589bd600",
   "metadata": {},
   "outputs": [
    {
     "data": {
      "text/plain": [
       "0.733333333333335"
      ]
     },
     "execution_count": 235,
     "metadata": {},
     "output_type": "execute_result"
    }
   ],
   "source": [
    "prob_of_formula('(e^h)', biased_die, val) / prob_of_formula('h', biased_die, val)"
   ]
  },
  {
   "cell_type": "code",
   "execution_count": 236,
   "id": "ca009813",
   "metadata": {},
   "outputs": [
    {
     "data": {
      "text/plain": [
       "0.08148148148148146"
      ]
     },
     "execution_count": 236,
     "metadata": {},
     "output_type": "execute_result"
    }
   ],
   "source": [
    "prob_of_formula('((l>e)^(h>e))', biased_die, val)"
   ]
  },
  {
   "cell_type": "markdown",
   "id": "ecaa76b4",
   "metadata": {},
   "source": [
    "As noted above, the reasoning of Ciardelli and Ommunndsen (2022, Sec. 5) implies that the probability of $(l>e)\\wedge (h>e)$ should be .5 in this case."
   ]
  },
  {
   "cell_type": "markdown",
   "id": "bec4df1d",
   "metadata": {},
   "source": [
    "# 4. Modified semantics"
   ]
  },
  {
   "cell_type": "markdown",
   "id": "5e90cb01",
   "metadata": {},
   "source": [
    "We now give a modified semantics that validates $p> (q > p)$, unlike the semantics of Section 2.\n",
    "\n",
    "This semantics is intended only for conditionals $\\varphi>\\psi$ where $\\varphi$ is Boolean (see Section 5.1 for a reason why). A more complicated definition (perhaps the one in Section 5) should be used when $\\varphi$ contains conditionals.\n",
    "\n",
    "The new clause for $>$ is:\n",
    "\n",
    "$\\mathcal{M},\\langle w_1,\\dots,w_n\\rangle\\vDash \\varphi > \\psi$ iff $\\mathcal{M},\\langle w_1,\\dots,w_n\\rangle +\\varphi \\vDash \\psi$ where $\\langle w_1,\\dots,w_n\\rangle +\\varphi$ is the sequence obtained from $\\langle w_1,\\dots,w_n\\rangle$ by dropping those $w_i$ such that $\\mathcal{M},\\langle w_i,\\dots,w_n\\rangle\\nvDash \\varphi$.\n",
    "\n",
    "Note that $\\langle w_1,\\dots,w_n\\rangle +\\varphi$ may be the empty sequence, and we stipulate that $\\mathcal{M},\\langle \\rangle \\vDash \\psi$.\n"
   ]
  },
  {
   "cell_type": "code",
   "execution_count": 237,
   "id": "540f187c",
   "metadata": {},
   "outputs": [],
   "source": [
    "def extension2(formula, sequences, valuation):\n",
    "    \"\"\"\n",
    "    Given a formula, a set of sequences of worlds, and a valuation mapping each proposition letter to a set of worlds,\n",
    "    returns the extension of the formula as a set of sequences according to the modified semantics\n",
    "    \"\"\"\n",
    "    \n",
    "    main_connec = main_connective(formula)\n",
    "\n",
    "    if main_connec[0] == 'prop':\n",
    "\n",
    "        return set([sequence for sequence in sequences if sequence[0] in valuation[main_connec[1]]])\n",
    "\n",
    "    if main_connec[0] == '~':\n",
    "        inner_ext = set(extension2(main_connec[1], sequences,valuation))\n",
    "        return set([w for w in sequences if not w in inner_ext])\n",
    "\n",
    "    if main_connec[0] == '^':\n",
    "        return extension2(main_connec[1],sequences,valuation).intersection(extension2(main_connec[2],sequences,valuation))\n",
    "\n",
    "    if main_connec[0] == 'v':\n",
    "        return extension2(main_connec[1],sequences,valuation).union(extension2(main_connec[2],sequences,valuation))\n",
    "\n",
    "    if main_connec[0] == '>':\n",
    "\n",
    "        ant_ext = extension2(main_connec[1], sequences, valuation)\n",
    "        cons_ext = extension2(main_connec[2], sequences, valuation)\n",
    "\n",
    "        ext = [seq for seq in sequences]\n",
    "\n",
    "        for sequence in sequences:\n",
    "                \n",
    "            restricted_sequence = tuple()\n",
    "\n",
    "            for idx, world in enumerate(sequence):\n",
    "\n",
    "                if sequence[idx::] in ant_ext:\n",
    "                    restricted_sequence = restricted_sequence + (world,)\n",
    "\n",
    "            if len(restricted_sequence) > 0 and not restricted_sequence in cons_ext:\n",
    "                ext.remove(sequence)\n",
    "\n",
    "        return set(ext)"
   ]
  },
  {
   "cell_type": "code",
   "execution_count": 238,
   "id": "06b4889d",
   "metadata": {},
   "outputs": [],
   "source": [
    "def prob_of_formula2(formula, world_prob_dist, valuation):\n",
    "    \"\"\"\n",
    "    Given a formula, probability distribution over worlds, and propositional valuation,\n",
    "    returns the probability of the formula according to the modified semantics\n",
    "    \"\"\"\n",
    "\n",
    "    worlds = world_prob_dist.keys()\n",
    "\n",
    "    sequences = list(permutations_of_ne_subsets(worlds))\n",
    "\n",
    "    ext = extension2(formula,sequences,valuation)\n",
    "\n",
    "    seq_prob_dist = sequence_prob_dist(world_prob_dist)\n",
    "\n",
    "    full_perms_ext = [seq for seq in perms(worlds) if seq in ext]\n",
    "\n",
    "    return sum([seq_prob_dist[seq] for seq in full_perms_ext])"
   ]
  },
  {
   "cell_type": "markdown",
   "id": "d88ab071",
   "metadata": {},
   "source": [
    "We get the same verdicts on the formulas we tested for the fair and biased die cases."
   ]
  },
  {
   "cell_type": "code",
   "execution_count": 239,
   "id": "5cee2836",
   "metadata": {},
   "outputs": [
    {
     "name": "stdout",
     "output_type": "stream",
     "text": [
      "0.3333333333333324\n",
      "0.22222222222222168\n",
      "0.11111111111111105\n",
      "0.08148148148148146\n"
     ]
    }
   ],
   "source": [
    "print(prob_of_formula2('(l>e)', fair_die, val))\n",
    "print(prob_of_formula2('((l>e)^(h>e))', fair_die ,val))\n",
    "print(prob_of_formula2('(l>e)', biased_die, val))\n",
    "print(prob_of_formula2('((l>e)^(h>e))', biased_die, val))"
   ]
  },
  {
   "cell_type": "markdown",
   "id": "ed7fe936",
   "metadata": {},
   "source": [
    "## 4.1. McGee-style counterexample to modus ponens\n",
    "\n",
    "This example is from Section 4.2 of Paolo Santorio's (2021) \"Trivializing Informational Consequence\" (http://paolosantorio.net/tic.pdf), based on McGee's (1985) \"A Counterexample to Modus Ponens\" (https://www.pdcnet.org/jphil/content/jphil_1985_0082_0009_0462_0471). \n",
    "\n",
    "Suppose you roll a fair 6-sided die.\n",
    "\n",
    "What is the probability that *if the die lands on an even number, then if it doesn't land on 2 or 4, then it lands on 6*? (Intuitively, 1.)\n",
    "\n",
    "What is the probability that *if the die doesn't land on 2 or 4, then it lands on 6*? (Intuitively, .25.)\n",
    "\n",
    "According to McGee and Santorio, you can assign greater probability to $e \\wedge (e > (\\neg(t \\vee f) > s))$ than to $\\neg( t \\vee  f) > s$. The approach of Section 4 agrees, while the approach of Section 2 disagrees.\n"
   ]
  },
  {
   "cell_type": "code",
   "execution_count": 240,
   "id": "7db8cf58",
   "metadata": {},
   "outputs": [
    {
     "name": "stdout",
     "output_type": "stream",
     "text": [
      "Total number of sequences: 1956\n",
      "Number of sequences in which (e > (~(t v f) > s)) is true according to Section 2: 1134\n",
      "Number of sequences in which (e > (~(t v f) > s)) is true according to Section 4: 1956\n"
     ]
    }
   ],
   "source": [
    "seqs = list(permutations_of_ne_subsets([1,2,3,4,5,6]))\n",
    "val2 = {'e': set({2,4,6}), 't': set({2}), 'f': set({4}), 's': set({6})}\n",
    "\n",
    "print(\"Total number of sequences:\", len(seqs))\n",
    "print(\"Number of sequences in which (e > (~(t v f) > s)) is true according to Section 2:\", len(extension('(e > (~(t v f) > s))', seqs, val2))) \n",
    "print(\"Number of sequences in which (e > (~(t v f) > s)) is true according to Section 4:\", len(extension2('(e > (~(t v f) > s))', seqs, val2))) \n"
   ]
  },
  {
   "cell_type": "code",
   "execution_count": 241,
   "id": "6bbb8525",
   "metadata": {},
   "outputs": [
    {
     "name": "stdout",
     "output_type": "stream",
     "text": [
      "Probability of (e > (~(t v f) > s)) according to Section 2: 0.566666666666665\n",
      "Probability of (e > (~(t v f) > s)) according to Section 4: 0.9999999999999968\n"
     ]
    }
   ],
   "source": [
    "print(\"Probability of (e > (~(t v f) > s)) according to Section 2:\", prob_of_formula('(e > (~(t v f) > s))', fair_die, val2))\n",
    "print(\"Probability of (e > (~(t v f) > s)) according to Section 4:\", prob_of_formula2('(e > (~(t v f) > s))', fair_die, val2))"
   ]
  },
  {
   "cell_type": "code",
   "execution_count": 242,
   "id": "8a9dcc2b",
   "metadata": {},
   "outputs": [
    {
     "name": "stdout",
     "output_type": "stream",
     "text": [
      "Probability of (e ^ (e > (~(t v f) > s))) according to Section 2: 0.24999999999999936\n",
      "Probability of ((~t ^ ~f) > s) according to Section 2: 0.24999999999999936\n"
     ]
    }
   ],
   "source": [
    "# The Modus Ponens inference according to the Section 2 semantics:\n",
    "\n",
    "print(\"Probability of (e ^ (e > (~(t v f) > s))) according to Section 2:\", prob_of_formula('(e ^ (e > (~(t v f) > s)))', fair_die, val2))\n",
    "print(\"Probability of ((~t ^ ~f) > s) according to Section 2:\", prob_of_formula('((~t ^ ~f) > s)', fair_die, val2))"
   ]
  },
  {
   "cell_type": "code",
   "execution_count": 243,
   "id": "8bd8fc84",
   "metadata": {},
   "outputs": [
    {
     "name": "stdout",
     "output_type": "stream",
     "text": [
      "Probability of (e ^ (e > (~(t v f) > s))) according to Section 4: 0.4999999999999985\n",
      "Probability of ((~t ^ ~f) > s) according to Section 4: 0.24999999999999936\n"
     ]
    }
   ],
   "source": [
    "# The Modus Ponens inference according to the Section 4 semantics:\n",
    "\n",
    "print(\"Probability of (e ^ (e > (~(t v f) > s))) according to Section 4:\", prob_of_formula2('(e ^ (e > (~(t v f) > s)))', fair_die, val2))\n",
    "print(\"Probability of ((~t ^ ~f) > s) according to Section 4:\", prob_of_formula2('((~t ^ ~f) > s)', fair_die, val2))"
   ]
  },
  {
   "cell_type": "markdown",
   "id": "35224ecf",
   "metadata": {},
   "source": [
    "# 5. A second version of the modified semantics"
   ]
  },
  {
   "cell_type": "markdown",
   "id": "13c017c8",
   "metadata": {},
   "source": [
    "Here is a variant of the Section 4 semantics, which is equivalent to that semantics if $\\varphi$ is Boolean but not in general:\n",
    "\n",
    "$\\mathcal{M},\\langle w_1,\\dots,w_n\\rangle\\vDash \\varphi > \\psi$ iff $\\mathcal{M},\\langle w_1,\\dots,w_n\\rangle \\times\\varphi \\vDash \\psi$ where $\\langle w_1,\\dots,w_n\\rangle \\times\\varphi$ is the sequence obtained from $\\langle w_1,\\dots,w_n\\rangle$ by the following inductive construction (where $\\tau+\\sigma$ is the concatation of the sequences $\\tau$ and $\\sigma$):\n",
    "\n",
    "1. if $\\mathcal{M},\\langle w_n\\rangle\\vDash \\varphi$, let $\\sigma_1=\\langle w_n\\rangle$; otherwise $\\sigma_1=\\langle \\rangle$;\n",
    "2. if $\\mathcal{M},\\langle w_{n-1}\\rangle + \\sigma_1 \\vDash \\varphi$, let $\\sigma_2=\\langle w_{n-1}\\rangle + \\sigma_1$; otherwise $\\sigma_2=\\sigma_1$;\n",
    "2. if $\\mathcal{M},\\langle w_{n-2}\\rangle + \\sigma_2 \\vDash \\varphi$, let $\\sigma_3=\\langle w_{n-2}\\rangle + \\sigma_2$; otherwise $\\sigma_3=\\sigma_2$;\n",
    "4. etc.\n",
    "\n",
    "Then $\\langle w_1,\\dots,w_n\\rangle \\times\\varphi=\\sigma_n$.\n",
    "\n",
    "As before, $\\langle w_1,\\dots,w_n\\rangle \\times\\varphi$ may be the empty sequence, and we stipulate that $\\mathcal{M},\\langle \\rangle \\vDash \\psi$."
   ]
  },
  {
   "cell_type": "code",
   "execution_count": 244,
   "id": "5fb4ec9c",
   "metadata": {},
   "outputs": [],
   "source": [
    "def extension3(formula, sequences, valuation):\n",
    "    \"\"\"\n",
    "    Given a formula, a set of sequences of worlds, and a valuation mapping each proposition letter to a set of worlds,\n",
    "    returns the extension of the formula as a set of sequences according to the second version of the modified semantics\n",
    "    \"\"\"\n",
    "    \n",
    "    main_connec = main_connective(formula)\n",
    "\n",
    "    if main_connec[0] == 'prop':\n",
    "\n",
    "        return set([sequence for sequence in sequences if sequence[0] in valuation[main_connec[1]]])\n",
    "\n",
    "    if main_connec[0] == '~':\n",
    "        inner_ext = set(extension3(main_connec[1], sequences,valuation))\n",
    "        return set([w for w in sequences if not w in inner_ext])\n",
    "\n",
    "    if main_connec[0] == '^':\n",
    "        return extension3(main_connec[1],sequences,valuation).intersection(extension3(main_connec[2],sequences,valuation))\n",
    "\n",
    "    if main_connec[0] == 'v':\n",
    "        return extension3(main_connec[1],sequences,valuation).union(extension3(main_connec[2],sequences,valuation))\n",
    "\n",
    "    if main_connec[0] == '>':\n",
    "\n",
    "        ant_ext = extension3(main_connec[1], sequences, valuation)\n",
    "        cons_ext = extension3(main_connec[2], sequences, valuation)\n",
    "\n",
    "        ext = [seq for seq in sequences]\n",
    "\n",
    "        for sequence in sequences:\n",
    "\n",
    "            reversed_sequence = tuple(reversed(sequence))\n",
    "                \n",
    "            restricted_sequence = tuple()\n",
    "\n",
    "            for world in reversed_sequence:\n",
    "\n",
    "                if (world,) + restricted_sequence in ant_ext:\n",
    "                    restricted_sequence = (world,) + restricted_sequence\n",
    "\n",
    "            if len(restricted_sequence) > 0 and not restricted_sequence in cons_ext:\n",
    "                ext.remove(sequence)\n",
    "\n",
    "        return set(ext)"
   ]
  },
  {
   "cell_type": "code",
   "execution_count": 245,
   "id": "ad012a47",
   "metadata": {},
   "outputs": [],
   "source": [
    "def prob_of_formula3(formula, world_prob_dist, valuation):\n",
    "    \"\"\"\n",
    "    Given a formula, probability distribution over worlds, and propositional valuation,\n",
    "    returns the probability of the formula according to the modified semantics\n",
    "    \"\"\"\n",
    "\n",
    "    worlds = world_prob_dist.keys()\n",
    "\n",
    "    sequences = list(permutations_of_ne_subsets(worlds))\n",
    "\n",
    "    ext = extension3(formula,sequences,valuation)\n",
    "\n",
    "    seq_prob_dist = sequence_prob_dist(world_prob_dist)\n",
    "\n",
    "    full_perms_ext = [seq for seq in perms(worlds) if seq in ext]\n",
    "\n",
    "    return sum([seq_prob_dist[seq] for seq in full_perms_ext])"
   ]
  },
  {
   "cell_type": "markdown",
   "id": "f050d609",
   "metadata": {},
   "source": [
    "The McGee-style counterexample to Modus Ponens works just as before."
   ]
  },
  {
   "cell_type": "code",
   "execution_count": 246,
   "id": "ec1d1a87",
   "metadata": {},
   "outputs": [
    {
     "name": "stdout",
     "output_type": "stream",
     "text": [
      "Probability of (e > (~(t v f) > s)) according to Section 5: 0.9999999999999968\n",
      "Probability of (e ^ (e > (~(t v f) > s))) according to Section 5: 0.4999999999999985\n",
      "Probability of ((~t ^ ~f) > s) according to Section 5: 0.24999999999999936\n"
     ]
    }
   ],
   "source": [
    "print(\"Probability of (e > (~(t v f) > s)) according to Section 5:\", prob_of_formula3('(e > (~(t v f) > s))', fair_die, val2))\n",
    "print(\"Probability of (e ^ (e > (~(t v f) > s))) according to Section 5:\", prob_of_formula3('(e ^ (e > (~(t v f) > s)))', fair_die, val2))\n",
    "print(\"Probability of ((~t ^ ~f) > s) according to Section 5:\", prob_of_formula3('((~t ^ ~f) > s)', fair_die, val2))"
   ]
  },
  {
   "cell_type": "markdown",
   "id": "22decbed",
   "metadata": {},
   "source": [
    "## 5.1. Differences with non-Boolean antecedents\n",
    "\n",
    "The semantics of Sections 4 and 5 are equivalent for conditionals with Boolean antecedents, but here we consider differences when the antecedent is non-Boolean."
   ]
  },
  {
   "cell_type": "markdown",
   "id": "ab394fa0",
   "metadata": {},
   "source": [
    "First, the semantics of Section 4 invalidates the identity principle $\\varphi>\\varphi$ for some exotic cases where $\\varphi$ contains conditionals.... By contrast, it's not hard to see that $\\varphi>\\varphi$ is valid according to the semantics of Section 5."
   ]
  },
  {
   "cell_type": "code",
   "execution_count": 247,
   "id": "fbfc9621",
   "metadata": {},
   "outputs": [
    {
     "name": "stdout",
     "output_type": "stream",
     "text": [
      "Total number of sequences: 1956\n",
      "Number of sequences in which (frml > frml) is true according to Section 4: 1695\n",
      "Number of sequences in which (frml > frml) is true according to Section 5: 1956\n"
     ]
    }
   ],
   "source": [
    "frml = '(f^((t>f)>t))'\n",
    "print(\"Total number of sequences:\", len(seqs))\n",
    "print(\"Number of sequences in which (frml > frml) is true according to Section 4:\", \n",
    "      len(extension2('(' + frml + \">\" + frml + ')', seqs, val2))) \n",
    "print(\"Number of sequences in which (frml > frml) is true according to Section 5:\", \n",
    "      len(extension3('(' + frml + \">\" + frml + ')', seqs, val2))) "
   ]
  },
  {
   "cell_type": "markdown",
   "id": "3bc336bf",
   "metadata": {},
   "source": [
    "Also interesting are the following conflicting probability verdicts."
   ]
  },
  {
   "cell_type": "code",
   "execution_count": 248,
   "id": "0a6568be",
   "metadata": {},
   "outputs": [
    {
     "name": "stdout",
     "output_type": "stream",
     "text": [
      "Probability of ((e>t)>t) according to Section 4: 0.4999999999999985\n",
      "Probability of t contiditional on (e>t) according to Section 4: 0.5000000000000003\n",
      "\n",
      "Probability of ((e>t)>t) according to Section 5: 0.24999999999999936\n",
      "Probability of t contiditional on (e>t) according to Section 5: 0.5000000000000003\n"
     ]
    }
   ],
   "source": [
    "print(\"Probability of ((e>t)>t) according to Section 4:\", \n",
    "      prob_of_formula2('((e>t)>t)', fair_die, val2))\n",
    "print(\"Probability of t contiditional on (e>t) according to Section 4:\", \n",
    "      prob_of_formula2('((e>t)^t)', fair_die, val2) / prob_of_formula2('(e>t)', fair_die, val2))\n",
    "print(\"\")\n",
    "print(\"Probability of ((e>t)>t) according to Section 5:\", \n",
    "      prob_of_formula3('((e>t)>t)', fair_die, val2))\n",
    "print(\"Probability of t contiditional on (e>t) according to Section 5:\", \n",
    "      prob_of_formula3('((e>t)^t)', fair_die, val2) / prob_of_formula3('(e>t)', fair_die, val2))"
   ]
  },
  {
   "cell_type": "code",
   "execution_count": 249,
   "id": "6dc10e34",
   "metadata": {},
   "outputs": [
    {
     "name": "stdout",
     "output_type": "stream",
     "text": [
      "Probability of ((e>t)>e) according to Section 4: 0.4999999999999985\n",
      "Probability of e conditional on (e>t) according to Section 4: 0.5000000000000003\n",
      "\n",
      "Probability of ((e>t)>e) according to Section 5: 0.24999999999999936\n",
      "Probability of e contiditional on (e>t) according to Section 5: 0.5000000000000003\n"
     ]
    }
   ],
   "source": [
    "print(\"Probability of ((e>t)>e) according to Section 4:\", \n",
    "      prob_of_formula2('((e>t)>e)', fair_die, val2))\n",
    "print(\"Probability of e conditional on (e>t) according to Section 4:\", \n",
    "      prob_of_formula2('((e>t)^e)', fair_die, val2) / prob_of_formula2('(e>t)', fair_die, val2))\n",
    "print(\"\")\n",
    "print(\"Probability of ((e>t)>e) according to Section 5:\", \n",
    "      prob_of_formula3('((e>t)>e)', fair_die, val2))\n",
    "print(\"Probability of e contiditional on (e>t) according to Section 5:\", \n",
    "      prob_of_formula3('((e>t)^e)', fair_die, val2) / prob_of_formula3('(e>t)', fair_die, val2))"
   ]
  }
 ],
 "metadata": {
  "interpreter": {
   "hash": "b0fa6594d8f4cbf19f97940f81e996739fb7646882a419484c72d19e05852a7e"
  },
  "kernelspec": {
   "display_name": "Python 3.9.9 64-bit",
   "language": "python",
   "name": "python3"
  },
  "language_info": {
   "codemirror_mode": {
    "name": "ipython",
    "version": 3
   },
   "file_extension": ".py",
   "mimetype": "text/x-python",
   "name": "python",
   "nbconvert_exporter": "python",
   "pygments_lexer": "ipython3",
   "version": "3.10.8"
  }
 },
 "nbformat": 4,
 "nbformat_minor": 5
}
