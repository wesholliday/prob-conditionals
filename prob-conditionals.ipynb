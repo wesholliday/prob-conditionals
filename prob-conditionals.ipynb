{
 "cells": [
  {
   "cell_type": "markdown",
   "id": "ce0c83ad",
   "metadata": {},
   "source": [
    "This notebook implements a finitary version of the approach to the probabilities of conditionals from Bas van Fraassen's 1976 paper \"Probabilities of conditionals\" (https://link.springer.com/chapter/10.1007/978-94-010-1853-1_10) (cf. Section 5 of http://paolosantorio.net/KS-NASSLLI2018.pdf)."
   ]
  },
  {
   "cell_type": "markdown",
   "id": "d60e5e8f",
   "metadata": {},
   "source": [
    "# Outline\n",
    "\n",
    "### 1. Preliminaries\n",
    "\n",
    "### 2. Semantics\n",
    "\n",
    "### 3. Probability\n",
    "\n",
    "#### 3.1 Fair die case\n",
    "\n",
    "#### 3.2 Biased die case\n",
    "\n",
    "### 4. Modified semantics\n",
    "\n",
    "#### 4.1. McGee-style counterexample to Modus Ponens"
   ]
  },
  {
   "cell_type": "markdown",
   "id": "88ec2d3e",
   "metadata": {},
   "source": [
    "# 1. Preliminaries"
   ]
  },
  {
   "cell_type": "code",
   "execution_count": 967,
   "id": "2ad193ae",
   "metadata": {},
   "outputs": [],
   "source": [
    "def perms(urn, num_to_draw = None):\n",
    "    \"\"\"\n",
    "    Returns all permutations of subsets of urn of size num_to_draw (default is len(urn))\n",
    "    \"\"\"\n",
    "    if num_to_draw == None:\n",
    "        num_to_draw = len(urn)\n",
    "\n",
    "    return _perms(urn,num_to_draw,[])\n",
    "\n",
    "def _perms(urn, num_to_draw, sequence):\n",
    "\n",
    "    if num_to_draw == 1:\n",
    "        for w in urn:\n",
    "            yield tuple(sequence + [w])\n",
    "\n",
    "    if num_to_draw > 1:\n",
    "        for w in urn:\n",
    "            yield from _perms([v for v in urn if not v==w], num_to_draw-1, sequence + [w])"
   ]
  },
  {
   "cell_type": "code",
   "execution_count": 968,
   "id": "91903361",
   "metadata": {},
   "outputs": [
    {
     "name": "stdout",
     "output_type": "stream",
     "text": [
      "('x', 'y', 'z')\n",
      "('x', 'z', 'y')\n",
      "('y', 'x', 'z')\n",
      "('y', 'z', 'x')\n",
      "('z', 'x', 'y')\n",
      "('z', 'y', 'x')\n"
     ]
    }
   ],
   "source": [
    "for seq in perms(['x','y','z']):\n",
    "    print(seq)"
   ]
  },
  {
   "cell_type": "code",
   "execution_count": 969,
   "id": "33bbf2ee",
   "metadata": {},
   "outputs": [],
   "source": [
    "def permutations_of_ne_subsets(urn):\n",
    "    \"\"\"\n",
    "    Returns all permutations of nonempty subsets of worlds\n",
    "    \"\"\"\n",
    "\n",
    "    for n in range(len(urn)+1):\n",
    "\n",
    "        yield from perms(urn,n)"
   ]
  },
  {
   "cell_type": "code",
   "execution_count": 970,
   "id": "85d99492",
   "metadata": {},
   "outputs": [
    {
     "name": "stdout",
     "output_type": "stream",
     "text": [
      "('x',)\n",
      "('y',)\n",
      "('z',)\n",
      "('x', 'y')\n",
      "('x', 'z')\n",
      "('y', 'x')\n",
      "('y', 'z')\n",
      "('z', 'x')\n",
      "('z', 'y')\n",
      "('x', 'y', 'z')\n",
      "('x', 'z', 'y')\n",
      "('y', 'x', 'z')\n",
      "('y', 'z', 'x')\n",
      "('z', 'x', 'y')\n",
      "('z', 'y', 'x')\n"
     ]
    }
   ],
   "source": [
    "for seq in permutations_of_ne_subsets(['x','y','z']):\n",
    "    print(seq)"
   ]
  },
  {
   "cell_type": "markdown",
   "id": "3c0371a2",
   "metadata": {},
   "source": [
    "# 2. Semantics"
   ]
  },
  {
   "cell_type": "markdown",
   "id": "5f2276d3",
   "metadata": {},
   "source": [
    "A *model* is a pair $\\mathcal{M}=(W,V)$ of a nonempty set $W$ and a propositional varluation $V:\\mathsf{Prop}\\to \\wp(W)$.\n",
    "\n",
    "Let $W'$ be the set of all permutations of nonempty subsets of $W$. We define truth of a formula $\\varphi$ at a permutation $\\langle w_1,\\dots,w_n\\rangle\\in W'$ as follows:\n",
    "\n",
    "1. $\\mathcal{M},\\langle w_1,\\dots,w_n\\rangle\\vDash p$ iff $w_1\\in V(p)$;\n",
    "\n",
    "2. $\\mathcal{M},\\langle w_1,\\dots,w_n\\rangle\\vDash \\neg\\varphi$ iff $\\mathcal{M},\\langle w_1,\\dots,w_n\\rangle\\nvDash \\varphi$;\n",
    "\n",
    "3. $\\mathcal{M},\\langle w_1,\\dots,w_n\\rangle\\vDash \\varphi\\wedge\\psi$ iff $\\mathcal{M},\\langle w_1,\\dots,w_n\\rangle\\vDash \\varphi$ and $\\mathcal{M},\\langle w_1,\\dots,w_n\\rangle\\vDash \\varphi$;\n",
    "\n",
    "4. $\\mathcal{M},\\langle w_1,\\dots,w_n\\rangle\\vDash \\varphi\\vee\\psi$ iff $\\mathcal{M},\\langle w_1,\\dots,w_n\\rangle\\vDash \\varphi$ or $\\mathcal{M},\\langle w_1,\\dots,w_n\\rangle\\vDash \\varphi$;\n",
    "\n",
    "5. $\\mathcal{M},\\langle w_1,\\dots,w_n\\rangle\\vDash \\varphi > \\psi$ iff $\\mathrm{min}(\\{i \\in\\mathbb{N}\\mid \\mathcal{M},\\langle w_i,\\dots,w_n\\rangle\\vDash \\varphi \\})\\subseteq \\{i \\in\\mathbb{N}\\mid \\mathcal{M},\\langle w_i,\\dots,w_n\\rangle\\vDash \\psi \\}$,\n",
    "\n",
    "where $\\langle w_i,\\dots,w_n\\rangle$ is the final segment of $\\langle w_1,\\dots,w_n\\rangle$ beginning with $w_i$.\n",
    "\n",
    "We call $\\{\\sigma\\in W'\\mid \\mathcal{M},\\sigma\\vDash\\varphi\\}$ the *extension* of $\\varphi$."
   ]
  },
  {
   "cell_type": "code",
   "execution_count": 971,
   "id": "41c2227d",
   "metadata": {},
   "outputs": [],
   "source": [
    "def main_connective(formula):\n",
    "    \"\"\"\n",
    "    Returns the main connective of the formula (or \"prop\" if s is a propositional variable) and arguments to main connective (or propositional variable)\n",
    "    \"\"\"\n",
    "\n",
    "    formula = formula.replace(\" \", \"\")\n",
    "        \n",
    "    if len(formula) == 1:\n",
    "        return \"prop\", formula\n",
    "\n",
    "    if formula.startswith(\"~\"):\n",
    "        formula = formula.removeprefix(\"~\")\n",
    "        return \"~\", formula\n",
    "\n",
    "    if formula.startswith(\"(\"):\n",
    "            \n",
    "        leftparen = 0\n",
    "        rightparen = 0\n",
    "        slength = len(formula)\n",
    "\n",
    "        for n in range(slength):\n",
    "\n",
    "            if formula[n] == \"(\":\n",
    "                leftparen +=1\n",
    "\n",
    "            if formula[n] == \")\":\n",
    "                rightparen +=1\n",
    "\n",
    "            if leftparen - rightparen == 1:\n",
    "                \n",
    "                if formula[n] == \"^\":\n",
    "                    return \"^\", formula[1:n], formula[n+1:-1]\n",
    "\n",
    "                if formula[n] == \"v\":\n",
    "                    return \"v\", formula[1:n], formula[n+1:-1]\n",
    "                \n",
    "                if formula[n] == '>':\n",
    "                    return '>', formula[1:n], formula[n+1:-1]     \n",
    "\n",
    "    return None"
   ]
  },
  {
   "cell_type": "code",
   "execution_count": 972,
   "id": "9f0ca953",
   "metadata": {},
   "outputs": [],
   "source": [
    "def extension(formula, sequences, valuation):\n",
    "    \"\"\"\n",
    "    Given a formula, a set of sequences of worlds, and a valuation mapping each proposition letter to a set of worlds,\n",
    "    returns the extension of the formula as a set of sequences\n",
    "    \"\"\"\n",
    "    \n",
    "    main_connec = main_connective(formula)\n",
    "\n",
    "    if main_connec[0] == 'prop':\n",
    "\n",
    "        return set([sequence for sequence in sequences if sequence[0] in valuation[main_connec[1]]])\n",
    "\n",
    "    if main_connec[0] == '~':\n",
    "        inner_ext = set(extension(main_connec[1], sequences,valuation))\n",
    "        return set([w for w in sequences if not w in inner_ext])\n",
    "\n",
    "    if main_connec[0] == '^':\n",
    "        return extension(main_connec[1],sequences,valuation).intersection(extension(main_connec[2],sequences,valuation))\n",
    "\n",
    "    if main_connec[0] == 'v':\n",
    "        return extension(main_connec[1],sequences,valuation).union(extension(main_connec[2],sequences,valuation))\n",
    "\n",
    "    if main_connec[0] == '>':\n",
    "\n",
    "        ant_ext = extension(main_connec[1], sequences, valuation)\n",
    "        cons_ext = extension(main_connec[2], sequences, valuation)\n",
    "\n",
    "        ext = [seq for seq in sequences]\n",
    "\n",
    "        for sequence in sequences:\n",
    "            for idx, world in enumerate(sequence):\n",
    "                if sequence[idx::] in ant_ext:\n",
    "                    if not sequence[idx::] in cons_ext:\n",
    "\n",
    "                        ext.remove(sequence)\n",
    "                        break\n",
    "                        \n",
    "                    else:\n",
    "                        break\n",
    "\n",
    "        return set(ext)"
   ]
  },
  {
   "cell_type": "code",
   "execution_count": 973,
   "id": "2fba6e52",
   "metadata": {},
   "outputs": [
    {
     "name": "stdout",
     "output_type": "stream",
     "text": [
      "[('x',), ('y',), ('z',), ('x', 'y'), ('x', 'z'), ('y', 'x'), ('y', 'z'), ('z', 'x'), ('z', 'y'), ('x', 'y', 'z'), ('x', 'z', 'y'), ('y', 'x', 'z'), ('y', 'z', 'x'), ('z', 'x', 'y'), ('z', 'y', 'x')]\n"
     ]
    }
   ],
   "source": [
    "seqs = list(permutations_of_ne_subsets(['x','y','z']))\n",
    "print(seqs)"
   ]
  },
  {
   "cell_type": "code",
   "execution_count": 974,
   "id": "cc01db18",
   "metadata": {},
   "outputs": [
    {
     "data": {
      "text/plain": [
       "{('x',),\n",
       " ('x', 'y'),\n",
       " ('x', 'y', 'z'),\n",
       " ('x', 'z'),\n",
       " ('x', 'z', 'y'),\n",
       " ('z',),\n",
       " ('z', 'x'),\n",
       " ('z', 'x', 'y'),\n",
       " ('z', 'y'),\n",
       " ('z', 'y', 'x')}"
      ]
     },
     "execution_count": 974,
     "metadata": {},
     "output_type": "execute_result"
    }
   ],
   "source": [
    "extension('p',seqs,{'p': set({'x','z'}), 'q': set({'x','y'})})"
   ]
  },
  {
   "cell_type": "code",
   "execution_count": 975,
   "id": "f45f198d",
   "metadata": {},
   "outputs": [
    {
     "data": {
      "text/plain": [
       "{('x',),\n",
       " ('x', 'y'),\n",
       " ('x', 'y', 'z'),\n",
       " ('x', 'z'),\n",
       " ('x', 'z', 'y'),\n",
       " ('y',),\n",
       " ('y', 'x'),\n",
       " ('y', 'x', 'z'),\n",
       " ('y', 'z'),\n",
       " ('y', 'z', 'x')}"
      ]
     },
     "execution_count": 975,
     "metadata": {},
     "output_type": "execute_result"
    }
   ],
   "source": [
    "extension('q',seqs,{'p': set({'x','z'}), 'q': set({'x','y'})})"
   ]
  },
  {
   "cell_type": "code",
   "execution_count": 976,
   "id": "036f09ee",
   "metadata": {},
   "outputs": [
    {
     "data": {
      "text/plain": [
       "{('x',),\n",
       " ('x', 'y'),\n",
       " ('x', 'y', 'z'),\n",
       " ('x', 'z'),\n",
       " ('x', 'z', 'y'),\n",
       " ('y',),\n",
       " ('y', 'x'),\n",
       " ('y', 'x', 'z')}"
      ]
     },
     "execution_count": 976,
     "metadata": {},
     "output_type": "execute_result"
    }
   ],
   "source": [
    "extension('(p>q)',seqs,{'p': set({'x','z'}), 'q': set({'x','y'})})"
   ]
  },
  {
   "cell_type": "code",
   "execution_count": 977,
   "id": "50a49d9a",
   "metadata": {},
   "outputs": [
    {
     "data": {
      "text/plain": [
       "{('x',),\n",
       " ('x', 'y'),\n",
       " ('x', 'y', 'z'),\n",
       " ('x', 'z'),\n",
       " ('x', 'z', 'y'),\n",
       " ('z',),\n",
       " ('z', 'x'),\n",
       " ('z', 'x', 'y')}"
      ]
     },
     "execution_count": 977,
     "metadata": {},
     "output_type": "execute_result"
    }
   ],
   "source": [
    "extension('(q>p)',seqs,{'p': set({'x','z'}), 'q': set({'x','y'})})"
   ]
  },
  {
   "cell_type": "code",
   "execution_count": 978,
   "id": "dd574517",
   "metadata": {},
   "outputs": [
    {
     "data": {
      "text/plain": [
       "{('x',),\n",
       " ('x', 'y'),\n",
       " ('x', 'y', 'z'),\n",
       " ('x', 'z'),\n",
       " ('x', 'z', 'y'),\n",
       " ('y',),\n",
       " ('y', 'x'),\n",
       " ('y', 'x', 'z'),\n",
       " ('y', 'z'),\n",
       " ('y', 'z', 'x'),\n",
       " ('z',),\n",
       " ('z', 'x'),\n",
       " ('z', 'x', 'y')}"
      ]
     },
     "execution_count": 978,
     "metadata": {},
     "output_type": "execute_result"
    }
   ],
   "source": [
    "extension('(p>(q>p))',seqs,{'p': set({'x','z'}), 'q': set({'x','y'})})"
   ]
  },
  {
   "cell_type": "markdown",
   "id": "2c91d68b",
   "metadata": {},
   "source": [
    "# 3. Probability of formulas"
   ]
  },
  {
   "cell_type": "markdown",
   "id": "8da76265",
   "metadata": {},
   "source": [
    "Given a finite model $\\mathcal{M}=(W,V)$, we encode a probability distribution as a dictionary that assigns to each $w\\in W$ a number in $[0,1]$ such that the probabilities sum to 1."
   ]
  },
  {
   "cell_type": "code",
   "execution_count": 979,
   "id": "5d75092b",
   "metadata": {},
   "outputs": [],
   "source": [
    "mu = dict()\n",
    "mu['x'] = .4\n",
    "mu['y'] = .35\n",
    "mu['z'] = .25"
   ]
  },
  {
   "cell_type": "markdown",
   "id": "d29b6e11",
   "metadata": {},
   "source": [
    "Next we assign probabilities to permutations of $W$. Note: we do not assign probabilities to permutations of proper subsets of $W$, since this will not be needed in the following.\n",
    "\n",
    "We take the probability of a permutation of $W$ to be the probability of drawing that permutation via sampling without replacement from $W$ according to the given probability distribution."
   ]
  },
  {
   "cell_type": "code",
   "execution_count": 980,
   "id": "c37ecd3d",
   "metadata": {},
   "outputs": [],
   "source": [
    "def prob_without_replacement(sequence,world_prob_dist):\n",
    "    \"\"\"\n",
    "    Given a sequence of worlds and a probability distribution over worlds,\n",
    "    returns the probability of the sequence under sampling without replacement\n",
    "    \"\"\"\n",
    "\n",
    "    world = sequence[0]\n",
    "\n",
    "    if len(sequence) == 1:\n",
    "        return world_prob_dist[world]\n",
    "\n",
    "    new_world_prob_dist = dict()\n",
    "\n",
    "    for w in world_prob_dist.keys():\n",
    "        if not w == sequence[0]:\n",
    "\n",
    "            new_world_prob_dist[w] =  world_prob_dist[w] /(1-world_prob_dist[world])\n",
    "\n",
    "    return world_prob_dist[world] * prob_without_replacement(sequence[1:],new_world_prob_dist)"
   ]
  },
  {
   "cell_type": "code",
   "execution_count": 981,
   "id": "78005b05",
   "metadata": {},
   "outputs": [
    {
     "data": {
      "text/plain": [
       "0.2333333333333334"
      ]
     },
     "execution_count": 981,
     "metadata": {},
     "output_type": "execute_result"
    }
   ],
   "source": [
    "prob_without_replacement(['x','y','z'], mu)"
   ]
  },
  {
   "cell_type": "code",
   "execution_count": 982,
   "id": "9e390a66",
   "metadata": {},
   "outputs": [],
   "source": [
    "def sequence_prob_dist(world_prob_dist):\n",
    "    \"\"\"\n",
    "    Given a probability distribution over worlds,\n",
    "    returns the probability distribution over permutations of the set of worlds\n",
    "    given by sampling without replacement\n",
    "    \"\"\"\n",
    "\n",
    "    sequence_prob_dist = dict()\n",
    "\n",
    "    for sequence in perms(world_prob_dist.keys()):\n",
    "\n",
    "        sequence_prob_dist[sequence] =  prob_without_replacement(sequence,world_prob_dist)\n",
    "\n",
    "    return sequence_prob_dist"
   ]
  },
  {
   "cell_type": "code",
   "execution_count": 983,
   "id": "2653ac77",
   "metadata": {},
   "outputs": [
    {
     "data": {
      "text/plain": [
       "{('x', 'y', 'z'): 0.2333333333333334,\n",
       " ('x', 'z', 'y'): 0.16666666666666674,\n",
       " ('y', 'x', 'z'): 0.2153846153846154,\n",
       " ('y', 'z', 'x'): 0.13461538461538458,\n",
       " ('z', 'x', 'y'): 0.1333333333333333,\n",
       " ('z', 'y', 'x'): 0.11666666666666663}"
      ]
     },
     "execution_count": 983,
     "metadata": {},
     "output_type": "execute_result"
    }
   ],
   "source": [
    "sequence_prob_dist(mu)"
   ]
  },
  {
   "cell_type": "markdown",
   "id": "767ba9e4",
   "metadata": {},
   "source": [
    "Given a model $\\mathcal{M}=(W,V)$ and probabilities encoded by $\\mu:W\\to[0,1]$, let $\\mu^+:\\wp(W)\\to [0,1]$ be defined as usual by $\\mu^+(A)=\\underset{w\\in A}{\\sum}\\mu(w)$.\n",
    "\n",
    "Then we take the probability of a formula $\\varphi$ to be $\\mu^+(\\{\\sigma\\in permutations(W)\\mid \\mathcal{M},\\sigma\\vDash\\varphi\\})$."
   ]
  },
  {
   "cell_type": "code",
   "execution_count": 984,
   "id": "c502d0ac",
   "metadata": {},
   "outputs": [],
   "source": [
    "def prob_of_formula(formula, world_prob_dist, valuation):\n",
    "    \"\"\"\n",
    "    Given a formula, probability distribution over worlds, and propositional valuation,\n",
    "    returns the probability of the formula\n",
    "    \"\"\"\n",
    "\n",
    "    worlds = world_prob_dist.keys()\n",
    "\n",
    "    sequences = list(permutations_of_ne_subsets(worlds))\n",
    "\n",
    "    ext = extension(formula,sequences,valuation)\n",
    "\n",
    "    seq_prob_dist = sequence_prob_dist(world_prob_dist)\n",
    "\n",
    "    full_perms_ext = [seq for seq in perms(worlds) if seq in ext]\n",
    "\n",
    "    return sum([seq_prob_dist[seq] for seq in full_perms_ext])"
   ]
  },
  {
   "cell_type": "markdown",
   "id": "90c79014",
   "metadata": {},
   "source": [
    "## 3.1. Fair die case"
   ]
  },
  {
   "cell_type": "code",
   "execution_count": 985,
   "id": "8f6593df",
   "metadata": {},
   "outputs": [
    {
     "name": "stdout",
     "output_type": "stream",
     "text": [
      "{1: 0.16666666666666666, 2: 0.16666666666666666, 3: 0.16666666666666666, 4: 0.16666666666666666, 5: 0.16666666666666666, 6: 0.16666666666666666}\n"
     ]
    }
   ],
   "source": [
    "fair_die = dict()\n",
    "\n",
    "for n in range(1,7):\n",
    "    fair_die[n] = 1/6\n",
    "\n",
    "print(fair_die)\n"
   ]
  },
  {
   "cell_type": "code",
   "execution_count": 986,
   "id": "8381e7e0",
   "metadata": {},
   "outputs": [],
   "source": [
    "val = {'l': set({1,2,3}), 'h': set({4,5,6}), 'e': set({2,4,6})}"
   ]
  },
  {
   "cell_type": "code",
   "execution_count": 987,
   "id": "d43e1b2e",
   "metadata": {},
   "outputs": [
    {
     "data": {
      "text/plain": [
       "0.3333333333333324"
      ]
     },
     "execution_count": 987,
     "metadata": {},
     "output_type": "execute_result"
    }
   ],
   "source": [
    "prob_of_formula('(l>e)', fair_die, val)"
   ]
  },
  {
   "cell_type": "code",
   "execution_count": 988,
   "id": "abd8c042",
   "metadata": {},
   "outputs": [
    {
     "data": {
      "text/plain": [
       "0.33333333333333365"
      ]
     },
     "execution_count": 988,
     "metadata": {},
     "output_type": "execute_result"
    }
   ],
   "source": [
    "prob_of_formula('(e^l)', fair_die, val) / prob_of_formula('l', fair_die, val)"
   ]
  },
  {
   "cell_type": "code",
   "execution_count": 989,
   "id": "0415f3cd",
   "metadata": {},
   "outputs": [
    {
     "data": {
      "text/plain": [
       "0.6666666666666646"
      ]
     },
     "execution_count": 989,
     "metadata": {},
     "output_type": "execute_result"
    }
   ],
   "source": [
    "prob_of_formula('(h>e)', fair_die, val)"
   ]
  },
  {
   "cell_type": "code",
   "execution_count": 990,
   "id": "189d2ec3",
   "metadata": {},
   "outputs": [
    {
     "data": {
      "text/plain": [
       "0.6666666666666669"
      ]
     },
     "execution_count": 990,
     "metadata": {},
     "output_type": "execute_result"
    }
   ],
   "source": [
    "prob_of_formula('(e^h)', fair_die, val) / prob_of_formula('h', fair_die, val)"
   ]
  },
  {
   "cell_type": "code",
   "execution_count": 991,
   "id": "d7abe0ae",
   "metadata": {},
   "outputs": [
    {
     "data": {
      "text/plain": [
       "0.22222222222222168"
      ]
     },
     "execution_count": 991,
     "metadata": {},
     "output_type": "execute_result"
    }
   ],
   "source": [
    "prob_of_formula('((l>e)^(h>e))', fair_die ,val) "
   ]
  },
  {
   "cell_type": "markdown",
   "id": "8efd7073",
   "metadata": {},
   "source": [
    "By contrast, according to Ciardelli and Ommunndsen (2022, Sec. 5) (https://onlinelibrary.wiley.com/doi/abs/10.1111/nous.12437), $(l>e)\\wedge (h>e)$ is equivalent to $e$ and hence should have probability .5. By this reasoning, the probability of $(l>e)\\wedge (h>e)$ should also be .5 in the following biased die case. "
   ]
  },
  {
   "cell_type": "markdown",
   "id": "3d7adc93",
   "metadata": {},
   "source": [
    "## 3.2. Biased die case"
   ]
  },
  {
   "cell_type": "code",
   "execution_count": 992,
   "id": "95b331ff",
   "metadata": {},
   "outputs": [],
   "source": [
    "biased_die = dict()\n",
    "\n",
    "biased_die[1] = 4/24\n",
    "biased_die[2] = 1/24\n",
    "biased_die[3] = 4/24\n",
    "biased_die[4] = 6/24\n",
    "biased_die[5] = 4/24\n",
    "biased_die[6] = 5/24"
   ]
  },
  {
   "cell_type": "code",
   "execution_count": 993,
   "id": "9ae0ec62",
   "metadata": {},
   "outputs": [
    {
     "data": {
      "text/plain": [
       "0.5000000000000006"
      ]
     },
     "execution_count": 993,
     "metadata": {},
     "output_type": "execute_result"
    }
   ],
   "source": [
    "prob_of_formula('e', biased_die, val)"
   ]
  },
  {
   "cell_type": "code",
   "execution_count": 994,
   "id": "37cbd787",
   "metadata": {},
   "outputs": [
    {
     "data": {
      "text/plain": [
       "0.11111111111111105"
      ]
     },
     "execution_count": 994,
     "metadata": {},
     "output_type": "execute_result"
    }
   ],
   "source": [
    "prob_of_formula('(l>e)', biased_die, val)"
   ]
  },
  {
   "cell_type": "code",
   "execution_count": 995,
   "id": "3178e6a5",
   "metadata": {},
   "outputs": [
    {
     "data": {
      "text/plain": [
       "0.11111111111111112"
      ]
     },
     "execution_count": 995,
     "metadata": {},
     "output_type": "execute_result"
    }
   ],
   "source": [
    "prob_of_formula('(e^l)', biased_die, val) / prob_of_formula('l', biased_die, val)"
   ]
  },
  {
   "cell_type": "code",
   "execution_count": 996,
   "id": "35dc090e",
   "metadata": {},
   "outputs": [
    {
     "data": {
      "text/plain": [
       "0.7333333333333321"
      ]
     },
     "execution_count": 996,
     "metadata": {},
     "output_type": "execute_result"
    }
   ],
   "source": [
    "prob_of_formula('(h>e)', biased_die, val)"
   ]
  },
  {
   "cell_type": "code",
   "execution_count": 997,
   "id": "589bd600",
   "metadata": {},
   "outputs": [
    {
     "data": {
      "text/plain": [
       "0.733333333333335"
      ]
     },
     "execution_count": 997,
     "metadata": {},
     "output_type": "execute_result"
    }
   ],
   "source": [
    "prob_of_formula('(e^h)', biased_die, val) / prob_of_formula('h', biased_die, val)"
   ]
  },
  {
   "cell_type": "code",
   "execution_count": 998,
   "id": "ca009813",
   "metadata": {},
   "outputs": [
    {
     "data": {
      "text/plain": [
       "0.08148148148148146"
      ]
     },
     "execution_count": 998,
     "metadata": {},
     "output_type": "execute_result"
    }
   ],
   "source": [
    "prob_of_formula('((l>e)^(h>e))', biased_die, val)"
   ]
  },
  {
   "cell_type": "markdown",
   "id": "ecaa76b4",
   "metadata": {},
   "source": [
    "As noted above, the reasoning of Ciardelli and Ommunndsen (2022, Sec. 5) implies that the probability of $(l>e)\\wedge (h>e)$ should be .5 in this case."
   ]
  },
  {
   "cell_type": "markdown",
   "id": "bec4df1d",
   "metadata": {},
   "source": [
    "# 4. Modified semantics"
   ]
  },
  {
   "cell_type": "markdown",
   "id": "5e90cb01",
   "metadata": {},
   "source": [
    "We now give a modified semantics that validates $p> (q > p)$.\n",
    "\n",
    "The semantics is intended only for conditionals $\\varphi>\\psi$ where $\\varphi$ is Boolean. Allowing conditionals in $\\varphi$ makes things more complicated.\n",
    "\n",
    "The new clause for $>$ is:\n",
    "\n",
    "$\\mathcal{M},\\langle w_1,\\dots,w_n\\rangle\\vDash \\varphi > \\psi$ iff $\\mathrm{min}(\\{i \\in\\mathbb{N}\\mid \\mathcal{M},\\langle w_i,\\dots,w_n\\rangle\\vDash \\varphi \\})\\subseteq \\{i \\in\\mathbb{N}\\mid \\mathcal{M},\\langle w_i,\\dots,w_n\\rangle +\\varphi \\vDash \\psi \\}$ where $\\langle w_i,\\dots,w_n\\rangle +\\varphi$ is the sequence obtained from $\\langle w_i,\\dots,w_n\\rangle$ by dropping those $w_j$ such that $\\mathcal{M},\\langle w_j,\\dots,w_n\\rangle\\nvDash \\varphi$.\n"
   ]
  },
  {
   "cell_type": "code",
   "execution_count": 999,
   "id": "540f187c",
   "metadata": {},
   "outputs": [],
   "source": [
    "def extension2(formula, sequences, valuation):\n",
    "    \"\"\"\n",
    "    Given a formula, a set of sequences of worlds, and a valuation mapping each proposition letter to a set of worlds,\n",
    "    returns the extension of the formula as a set of sequences according to the modified semantics\n",
    "    \"\"\"\n",
    "    \n",
    "    main_connec = main_connective(formula)\n",
    "\n",
    "    if main_connec[0] == 'prop':\n",
    "\n",
    "        return set([sequence for sequence in sequences if sequence[0] in valuation[main_connec[1]]])\n",
    "\n",
    "    if main_connec[0] == '~':\n",
    "        inner_ext = set(extension2(main_connec[1], sequences,valuation))\n",
    "        return set([w for w in sequences if not w in inner_ext])\n",
    "\n",
    "    if main_connec[0] == '^':\n",
    "        return extension2(main_connec[1],sequences,valuation).intersection(extension2(main_connec[2],sequences,valuation))\n",
    "\n",
    "    if main_connec[0] == 'v':\n",
    "        return extension2(main_connec[1],sequences,valuation).union(extension2(main_connec[2],sequences,valuation))\n",
    "\n",
    "    if main_connec[0] == '>':\n",
    "\n",
    "        ant_ext = extension2(main_connec[1], sequences, valuation)\n",
    "        cons_ext = extension2(main_connec[2], sequences, valuation)\n",
    "\n",
    "        ext = [seq for seq in sequences]\n",
    "\n",
    "        for sequence in sequences:\n",
    "            \n",
    "            for idx, world in enumerate(sequence):\n",
    "\n",
    "                final_segment = sequence[idx::]\n",
    "                \n",
    "                if sequence[idx::] in ant_ext:\n",
    "\n",
    "                    restricted_sequence = tuple()\n",
    "\n",
    "                    for idx2, world2 in enumerate(final_segment):\n",
    "\n",
    "                        if final_segment[idx2::] in ant_ext:\n",
    "                            restricted_sequence = restricted_sequence + (world2,)\n",
    "\n",
    "                    if not restricted_sequence in cons_ext:\n",
    "\n",
    "                        ext.remove(sequence)\n",
    "                        break\n",
    "                        \n",
    "                    else:\n",
    "                        break\n",
    "\n",
    "        return set(ext)"
   ]
  },
  {
   "cell_type": "code",
   "execution_count": 1000,
   "id": "06b4889d",
   "metadata": {},
   "outputs": [],
   "source": [
    "def prob_of_formula2(formula, world_prob_dist, valuation):\n",
    "    \"\"\"\n",
    "    Given a formula, probability distribution over worlds, and propositional valuation,\n",
    "    returns the probability of the formula according to the modified semantics\n",
    "    \"\"\"\n",
    "\n",
    "    worlds = world_prob_dist.keys()\n",
    "\n",
    "    sequences = list(permutations_of_ne_subsets(worlds))\n",
    "\n",
    "    ext = extension2(formula,sequences,valuation)\n",
    "\n",
    "    seq_prob_dist = sequence_prob_dist(world_prob_dist)\n",
    "\n",
    "    full_perms_ext = [seq for seq in perms(worlds) if seq in ext]\n",
    "\n",
    "    return sum([seq_prob_dist[seq] for seq in full_perms_ext])"
   ]
  },
  {
   "cell_type": "markdown",
   "id": "ed7fe936",
   "metadata": {},
   "source": [
    "## 4.1. McGee-style counterexample to modus ponens\n",
    "\n",
    "This example is from Section 4.2 of Paolo Santorio's (2021) \"Trivializing Informational Consequence\" (http://paolosantorio.net/tic.pdf), based on McGee's (1985) \"A Counterexample to Modus Ponens\" (https://www.pdcnet.org/jphil/content/jphil_1985_0082_0009_0462_0471)."
   ]
  },
  {
   "cell_type": "code",
   "execution_count": 1001,
   "id": "7db8cf58",
   "metadata": {},
   "outputs": [
    {
     "name": "stdout",
     "output_type": "stream",
     "text": [
      "1956\n",
      "1134\n",
      "1956\n"
     ]
    }
   ],
   "source": [
    "seq = list(permutations_of_ne_subsets([1,2,3,4,5,6]))\n",
    "val2 = {'e': set({2,4,6}), 't': set({2}), 'f': set({4}), 's': set({6})}\n",
    "\n",
    "print(len(seq))\n",
    "print(len(extension('(e>((~t ^ ~f)>s))', seq, val2))) # The formula is not true at all sequences according to the semantics of Section 2\n",
    "print(len(extension2('(e>((~t ^ ~f)>s))', seq, val2))) # But it is true at all sequences according to the modified semantics\n"
   ]
  },
  {
   "cell_type": "code",
   "execution_count": 1002,
   "id": "b779c521",
   "metadata": {},
   "outputs": [
    {
     "data": {
      "text/plain": [
       "0.9999999999999968"
      ]
     },
     "execution_count": 1002,
     "metadata": {},
     "output_type": "execute_result"
    }
   ],
   "source": [
    "prob_of_formula2('(e>((~t ^ ~f)>s))', fair_die, val2)"
   ]
  },
  {
   "cell_type": "code",
   "execution_count": 1003,
   "id": "1ddb0aab",
   "metadata": {},
   "outputs": [
    {
     "data": {
      "text/plain": [
       "0.4999999999999985"
      ]
     },
     "execution_count": 1003,
     "metadata": {},
     "output_type": "execute_result"
    }
   ],
   "source": [
    "prob_of_formula2('(e^(e>((~t ^ ~f)>s)))', fair_die, val2)"
   ]
  },
  {
   "cell_type": "code",
   "execution_count": 1004,
   "id": "0803c111",
   "metadata": {},
   "outputs": [
    {
     "data": {
      "text/plain": [
       "0.24999999999999936"
      ]
     },
     "execution_count": 1004,
     "metadata": {},
     "output_type": "execute_result"
    }
   ],
   "source": [
    "prob_of_formula2('((~t ^ ~f)>s)', fair_die, val2)"
   ]
  },
  {
   "cell_type": "markdown",
   "id": "83e81476",
   "metadata": {},
   "source": []
  }
 ],
 "metadata": {
  "interpreter": {
   "hash": "b0fa6594d8f4cbf19f97940f81e996739fb7646882a419484c72d19e05852a7e"
  },
  "kernelspec": {
   "display_name": "Python 3.9.9 64-bit",
   "language": "python",
   "name": "python3"
  },
  "language_info": {
   "codemirror_mode": {
    "name": "ipython",
    "version": 3
   },
   "file_extension": ".py",
   "mimetype": "text/x-python",
   "name": "python",
   "nbconvert_exporter": "python",
   "pygments_lexer": "ipython3",
   "version": "3.10.8"
  }
 },
 "nbformat": 4,
 "nbformat_minor": 5
}
